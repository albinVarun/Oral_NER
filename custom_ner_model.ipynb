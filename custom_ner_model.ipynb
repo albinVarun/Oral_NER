{
 "cells": [
  {
   "cell_type": "code",
   "execution_count": 1,
   "metadata": {},
   "outputs": [],
   "source": [
    "#!pip install spacy"
   ]
  },
  {
   "cell_type": "code",
   "execution_count": 1,
   "metadata": {},
   "outputs": [],
   "source": [
    "import spacy\n",
    "from spacy.training.example import Example\n",
    "from spacy.util import minibatch, compounding\n",
    "import random\n",
    "import json\n",
    "\n",
    "\n"
   ]
  },
  {
   "cell_type": "code",
   "execution_count": 2,
   "metadata": {},
   "outputs": [
    {
     "name": "stdout",
     "output_type": "stream",
     "text": [
      "<class 'list'>\n",
      "<class 'dict'>\n"
     ]
    }
   ],
   "source": [
    "# Load training data from a JSON file\n",
    "with open('annotations.json', 'r') as file:\n",
    "    TRAIN_DATA = json.load(file)\n",
    "print(type(TRAIN_DATA))\n",
    "print(type(TRAIN_DATA[0]))\n",
    "# Prepare the training data for spaCy\n",
    "spacy_train_data = []\n",
    "for item in TRAIN_DATA:\n",
    "    text = item['annotations']\n",
    "    entities = [(start, end, label) for start, end, label in item['entities']]\n",
    "    spacy_train_data.append((text, {\"entities\": entities}))\n",
    "\n"
   ]
  },
  {
   "cell_type": "code",
   "execution_count": null,
   "metadata": {},
   "outputs": [],
   "source": [
    "# Create a blank model\n",
    "nlp = spacy.blank(\"en\")\n",
    "\n",
    "# Create the NER component and add it to the pipeline\n",
    "if \"ner\" not in nlp.pipe_names:\n",
    "    ner = nlp.add_pipe(\"ner\")\n",
    "else:\n",
    "    ner = nlp.get_pipe(\"ner\")\n",
    "\n",
    "# Add labels to the NER component\n",
    "for _, annotations in spacy_train_data:\n",
    "    for ent in annotations.get(\"entities\"):\n",
    "        ner.add_label(ent[2])\n",
    "\n"
   ]
  },
  {
   "cell_type": "code",
   "execution_count": null,
   "metadata": {},
   "outputs": [],
   "source": [
    "# Start the training\n",
    "nlp.begin_training()\n",
    "\n",
    "# Loop for 30 iterations\n",
    "for itn in range(30):\n",
    "    losses = {}\n",
    "    # Shuffle the training data\n",
    "    random.shuffle(spacy_train_data)\n",
    "    # Create batches\n",
    "    batches = minibatch(spacy_train_data, size=compounding(4.0, 32.0, 1.001))\n",
    "    # Update the model\n",
    "    for batch in batches:\n",
    "        for text, annotations in batch:\n",
    "            doc = nlp.make_doc(text)\n",
    "            example = Example.from_dict(doc, annotations)\n",
    "            nlp.update([example], drop=0.5, losses=losses)\n",
    "    print(f\"Iteration {itn}, Losses: {losses}\")\n",
    "\n"
   ]
  },
  {
   "cell_type": "code",
   "execution_count": null,
   "metadata": {},
   "outputs": [],
   "source": [
    "# Save the model to a directory\n",
    "nlp.to_disk(\"custom_ner_model\")\n",
    "\n",
    "# Load the saved model\n",
    "nlp = spacy.load(\"custom_ner_model\")\n",
    "\n"
   ]
  },
  {
   "cell_type": "code",
   "execution_count": null,
   "metadata": {},
   "outputs": [],
   "source": [
    "# Test the model\n",
    "test_text = \"\"\n",
    "doc = nlp(test_text)\n",
    "\n",
    "for ent in doc.ents:\n",
    "    print(ent.text, ent.label_)"
   ]
  }
 ],
 "metadata": {
  "kernelspec": {
   "display_name": "Python 3",
   "language": "python",
   "name": "python3"
  },
  "language_info": {
   "codemirror_mode": {
    "name": "ipython",
    "version": 3
   },
   "file_extension": ".py",
   "mimetype": "text/x-python",
   "name": "python",
   "nbconvert_exporter": "python",
   "pygments_lexer": "ipython3",
   "version": "3.12.3"
  }
 },
 "nbformat": 4,
 "nbformat_minor": 2
}
